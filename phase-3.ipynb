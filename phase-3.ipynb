{
 "cells": [
  {
   "cell_type": "markdown",
   "id": "81b4e0cd",
   "metadata": {},
   "source": [
    "Day 3: Advanced NumPy for ML"
   ]
  },
  {
   "cell_type": "markdown",
   "id": "aec48ef5",
   "metadata": {},
   "source": [
    "Broadcasting (core ML concept)"
   ]
  },
  {
   "cell_type": "code",
   "execution_count": null,
   "id": "d0c3a06e",
   "metadata": {},
   "outputs": [],
   "source": [
    "import numpy as np\n",
    "\n",
    "A = np.array([[1,2,3],\n",
    "              [4,5,6],\n",
    "              [7,8,9]])\n",
    "\n",
    "b = np.array([10,20,30])\n",
    "\n",
    "# Add row vector b to every row of A\n",
    "print(A + b)\n"
   ]
  },
  {
   "cell_type": "markdown",
   "id": "de4396d8",
   "metadata": {},
   "source": [
    "2. Stacking & Splitting"
   ]
  },
  {
   "cell_type": "code",
   "execution_count": null,
   "id": "d9c48fde",
   "metadata": {},
   "outputs": [],
   "source": [
    "x = np.array([1,2,3])\n",
    "y = np.array([4,5,6])\n",
    "\n",
    "# Stack vertically\n",
    "print(np.vstack([x,y]))\n",
    "\n",
    "# Stack horizontally\n",
    "print(np.hstack([x,y]))\n"
   ]
  },
  {
   "cell_type": "markdown",
   "id": "735474e1",
   "metadata": {},
   "source": [
    "3. Fancy Indexing"
   ]
  },
  {
   "cell_type": "code",
   "execution_count": null,
   "id": "98fdfba1",
   "metadata": {},
   "outputs": [],
   "source": [
    "arr = np.arange(10, 100, 10)\n",
    "print(arr)\n",
    "\n",
    "indices = [0, 3, 5]\n",
    "print(arr[indices])  # Picks elements at positions 0,3,5\n"
   ]
  },
  {
   "cell_type": "markdown",
   "id": "4fed0d9c",
   "metadata": {},
   "source": [
    "4. Random Sampling"
   ]
  },
  {
   "cell_type": "code",
   "execution_count": null,
   "id": "37520a2b",
   "metadata": {},
   "outputs": [],
   "source": [
    "data = np.arange(1,101)\n",
    "batch = np.random.choice(data, size=5, replace=False)\n",
    "print(batch)\n"
   ]
  },
  {
   "cell_type": "markdown",
   "id": "5377603b",
   "metadata": {},
   "source": [
    "5. Linear Algebra (ML backbone)"
   ]
  },
  {
   "cell_type": "code",
   "execution_count": null,
   "id": "eed69af2",
   "metadata": {},
   "outputs": [],
   "source": [
    "A = np.array([[2, 3],\n",
    "              [1, 4]])\n",
    "\n",
    "# Determinant\n",
    "print(np.linalg.det(A))\n",
    "\n",
    "# Inverse\n",
    "print(np.linalg.inv(A))\n",
    "\n",
    "# Eigenvalues & eigenvectors\n",
    "vals, vecs = np.linalg.eig(A)\n",
    "print(\"Eigenvalues:\", vals)\n",
    "print(\"Eigenvectors:\\n\", vecs)\n"
   ]
  },
  {
   "cell_type": "markdown",
   "id": "449c755d",
   "metadata": {},
   "source": [
    "Exercises (Day 3)"
   ]
  },
  {
   "cell_type": "markdown",
   "id": "b4d7b8a4",
   "metadata": {},
   "source": [
    "Create a 5x3 matrix and add a (1x3) row vector using broadcasting."
   ]
  },
  {
   "cell_type": "code",
   "execution_count": null,
   "id": "fce5f1f0",
   "metadata": {},
   "outputs": [],
   "source": [
    "a = np.random.randint(1,100,(5,3))\n",
    "b = np.random.randint(1,100,(1,3))\n",
    "print(a+b)\n"
   ]
  },
  {
   "cell_type": "markdown",
   "id": "28f2aa40",
   "metadata": {},
   "source": [
    "Stack two 3x3 matrices vertically and horizontally."
   ]
  },
  {
   "cell_type": "code",
   "execution_count": null,
   "id": "849c8fa5",
   "metadata": {},
   "outputs": [],
   "source": [
    "a = np.random.randint(1,100,(3,3))\n",
    "b = np.random.randint(1,100,(3,3))\n",
    "\n",
    "print(np.vstack([a,b]))\n",
    "print(np.hstack([a,b]))\n"
   ]
  },
  {
   "cell_type": "markdown",
   "id": "9c6d7c2a",
   "metadata": {},
   "source": [
    "From arr = np.arange(10, 101, 10), pick values at indices [1, 4, 7]"
   ]
  },
  {
   "cell_type": "code",
   "execution_count": null,
   "id": "18a4eeb8",
   "metadata": {},
   "outputs": [],
   "source": [
    "arr = np.arange(10,101,10)\n",
    "indices = [1,4,7]\n",
    "print(arr[indices])"
   ]
  },
  {
   "cell_type": "markdown",
   "id": "52a28971",
   "metadata": {},
   "source": [
    "Generate a random batch of 15 samples from numbers 1–500"
   ]
  },
  {
   "cell_type": "code",
   "execution_count": null,
   "id": "d3d7709a",
   "metadata": {},
   "outputs": [],
   "source": [
    "data = np.arange(1,501)\n",
    "batch1 = np.random.choice(data,size=15,replace=False)\n",
    "print(batch1)"
   ]
  },
  {
   "cell_type": "markdown",
   "id": "16b48ffa",
   "metadata": {},
   "source": [
    "Create a 3x3 matrix, find its determinant, inverse, and eigenvalues."
   ]
  },
  {
   "cell_type": "code",
   "execution_count": null,
   "id": "d8de7b6b",
   "metadata": {},
   "outputs": [],
   "source": [
    "matrix1 = np.random.randint(1,10,(3,3))\n",
    "print(matrix1)\n",
    "\n",
    "print(np.linalg.det(matrix1))\n",
    "print(np.linalg.inv(matrix1))\n",
    "print(np.linalg.eig(matrix1))"
   ]
  }
 ],
 "metadata": {
  "kernelspec": {
   "display_name": "venv",
   "language": "python",
   "name": "python3"
  },
  "language_info": {
   "codemirror_mode": {
    "name": "ipython",
    "version": 3
   },
   "file_extension": ".py",
   "mimetype": "text/x-python",
   "name": "python",
   "nbconvert_exporter": "python",
   "pygments_lexer": "ipython3",
   "version": "3.13.7"
  }
 },
 "nbformat": 4,
 "nbformat_minor": 5
}
