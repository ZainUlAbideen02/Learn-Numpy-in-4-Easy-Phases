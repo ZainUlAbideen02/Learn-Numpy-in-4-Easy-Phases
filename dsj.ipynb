{
 "cells": [
  {
   "cell_type": "markdown",
   "id": "5204c2e2",
   "metadata": {},
   "source": [
    "### Lab Task"
   ]
  },
  {
   "cell_type": "code",
   "execution_count": null,
   "id": "d855411b",
   "metadata": {},
   "outputs": [
    {
     "name": "stdout",
     "output_type": "stream",
     "text": [
      "You have entered 6 odd numbers\n"
     ]
    }
   ],
   "source": [
    "def count_odd_numbers(numbers):\n",
    "    count = 0\n",
    "    for num in numbers:\n",
    "        if num % 2 != 0:\n",
    "            count += 1\n",
    "    return count\n",
    "\n",
    "numbers = list(map(int,(input(\"Enter numbers: \").split())))\n",
    "\n",
    "odd_count = count_odd_numbers(numbers)\n",
    "\n",
    "print(\"You have entered\", odd_count, \"odd numbers\")\n",
    "print(\"You have entered\", odd_count, \"odd numbers\")\n"
   ]
  }
 ],
 "metadata": {
  "kernelspec": {
   "display_name": "venv",
   "language": "python",
   "name": "python3"
  },
  "language_info": {
   "codemirror_mode": {
    "name": "ipython",
    "version": 3
   },
   "file_extension": ".py",
   "mimetype": "text/x-python",
   "name": "python",
   "nbconvert_exporter": "python",
   "pygments_lexer": "ipython3",
   "version": "3.13.7"
  }
 },
 "nbformat": 4,
 "nbformat_minor": 5
}
