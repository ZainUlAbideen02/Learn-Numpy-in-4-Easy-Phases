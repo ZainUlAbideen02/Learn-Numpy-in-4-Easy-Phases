{
 "cells": [
  {
   "cell_type": "markdown",
   "id": "59eec953",
   "metadata": {},
   "source": [
    "Day 1 – NumPy Core Foundations"
   ]
  },
  {
   "cell_type": "markdown",
   "id": "7a8a3526",
   "metadata": {},
   "source": [
    "    1. Import NumPy"
   ]
  },
  {
   "cell_type": "code",
   "execution_count": 1,
   "id": "07b19e5f",
   "metadata": {},
   "outputs": [],
   "source": [
    "import numpy as np #We usually write np because it’s shorter."
   ]
  },
  {
   "cell_type": "markdown",
   "id": "a89c16a7",
   "metadata": {},
   "source": [
    "    2. Creating Arrays\n"
   ]
  },
  {
   "cell_type": "code",
   "execution_count": null,
   "id": "e01c0226",
   "metadata": {},
   "outputs": [],
   "source": [
    "arr = np.array([1, 2, 3, 4, 5])\n",
    "print(arr)\n",
    "print(type(arr))   # <class 'numpy.ndarray'>"
   ]
  },
  {
   "cell_type": "markdown",
   "id": "644c697f",
   "metadata": {},
   "source": [
    "Special arrays:"
   ]
  },
  {
   "cell_type": "code",
   "execution_count": null,
   "id": "0d95da65",
   "metadata": {},
   "outputs": [],
   "source": [
    "zeros = np.zeros((2, 3))     # 2x3 matrix of zeros\n",
    "ones = np.ones((3, 3))       # 3x3 matrix of ones\n",
    "arange = np.arange(0, 10, 2) # [0 2 4 6 8]\n",
    "linspace = np.linspace(0, 1, 5) # 5 values between 0 and 1\n",
    "###In ML: datasets often start as zeros/ones, or need evenly spaced values."
   ]
  },
  {
   "cell_type": "markdown",
   "id": "795f9414",
   "metadata": {},
   "source": [
    "    3. Array Attributes"
   ]
  },
  {
   "cell_type": "code",
   "execution_count": null,
   "id": "40945c96",
   "metadata": {},
   "outputs": [],
   "source": [
    "a = np.array([[1, 2, 3], [4, 5, 6]])\n",
    "print(a.shape)   # (2,3) → 2 rows, 3 columns\n",
    "print(a.ndim)    # 2 → 2D array\n",
    "print(a.size)    # 6 → total elements"
   ]
  },
  {
   "cell_type": "markdown",
   "id": "cfd9d89e",
   "metadata": {},
   "source": [
    "    4. Indexing & Slicing"
   ]
  },
  {
   "cell_type": "code",
   "execution_count": null,
   "id": "e8c1a701",
   "metadata": {},
   "outputs": [],
   "source": [
    "b = np.array([10, 20, 30, 40, 50])\n",
    "print(b[0])     # first element → 10\n",
    "print(b[-1])    # last element → 50\n",
    "print(b[1:4])   # slice → [20 30 40]\n",
    "\n",
    "# 2D indexing\n",
    "c = np.array([[1, 2, 3], [4, 5, 6]])\n",
    "print(c[0, 1])   # first row, second col → 2\n",
    "print(c[:, 0])   # first column → [1 4]\n"
   ]
  },
  {
   "cell_type": "markdown",
   "id": "b3bb5ff9",
   "metadata": {},
   "source": [
    "    5. Reshaping & Transposing"
   ]
  },
  {
   "cell_type": "code",
   "execution_count": null,
   "id": "af1c739a",
   "metadata": {},
   "outputs": [],
   "source": [
    "d = np.arange(12)     # [0 1 2 ... 11]\n",
    "print(d.reshape(3, 4))  # 3 rows, 4 cols\n",
    "\n",
    "e = np.array([[1, 2], [3, 4], [5, 6]])\n",
    "print(e.T)  # transpose → rows become cols"
   ]
  },
  {
   "cell_type": "markdown",
   "id": "f454e87f",
   "metadata": {},
   "source": [
    "    Phase - 1 Exercises: "
   ]
  },
  {
   "cell_type": "markdown",
   "id": "ee5cedcb",
   "metadata": {},
   "source": [
    "Try these before looking at solutions 👇"
   ]
  },
  {
   "cell_type": "markdown",
   "id": "91204b9e",
   "metadata": {},
   "source": [
    "1. Create a NumPy array of numbers from 1 to 20."
   ]
  },
  {
   "cell_type": "code",
   "execution_count": null,
   "id": "304b3724",
   "metadata": {},
   "outputs": [],
   "source": []
  },
  {
   "cell_type": "markdown",
   "id": "cbbdbb1b",
   "metadata": {},
   "source": [
    "2. Create a 5x5 matrix of all ones."
   ]
  },
  {
   "cell_type": "code",
   "execution_count": null,
   "id": "14bef51a",
   "metadata": {},
   "outputs": [],
   "source": []
  },
  {
   "cell_type": "markdown",
   "id": "34c3cc79",
   "metadata": {},
   "source": [
    "3. Generate an array of even numbers between 10 and 50."
   ]
  },
  {
   "cell_type": "code",
   "execution_count": null,
   "id": "be2a9e43",
   "metadata": {},
   "outputs": [],
   "source": []
  },
  {
   "cell_type": "markdown",
   "id": "74cd4e8e",
   "metadata": {},
   "source": [
    "4. Reshape an array of numbers from 0 to 15 into a 4x4 matrix."
   ]
  },
  {
   "cell_type": "code",
   "execution_count": null,
   "id": "b33800a0",
   "metadata": {},
   "outputs": [],
   "source": []
  },
  {
   "cell_type": "markdown",
   "id": "cc8d2448",
   "metadata": {},
   "source": [
    "5. From this matrix:"
   ]
  },
  {
   "cell_type": "markdown",
   "id": "959b82ee",
   "metadata": {},
   "source": [
    "[[1, 2, 3],\n",
    " [4, 5, 6],\n",
    " [7, 8, 9]]\n"
   ]
  },
  {
   "cell_type": "markdown",
   "id": "5bbd6430",
   "metadata": {},
   "source": [
    "Extract the number 6.\n",
    "\n",
    "Get the second column [2, 5, 8].\n",
    "\n",
    "Get the first row [1, 2, 3]."
   ]
  },
  {
   "cell_type": "code",
   "execution_count": null,
   "id": "e7b1056c",
   "metadata": {},
   "outputs": [],
   "source": []
  },
  {
   "cell_type": "markdown",
   "id": "d0326926",
   "metadata": {},
   "source": [
    "    Solution:"
   ]
  },
  {
   "cell_type": "code",
   "execution_count": null,
   "id": "394660e0",
   "metadata": {},
   "outputs": [],
   "source": [
    "import numpy as np\n",
    "\n",
    "# 1. Create a NumPy array of numbers from 1 to 20\n",
    "arr1 = np.arange(1, 21)\n",
    "print(\"Array from 1 to 20:\\n\", arr1)\n",
    "\n",
    "# 2. Create a 5x5 matrix of all ones\n",
    "matrix_ones = np.ones((5, 5))\n",
    "print(\"\\n5x5 Matrix of ones:\\n\", matrix_ones)\n",
    "\n",
    "# 3. Generate an array of even numbers between 10 and 50\n",
    "even_arr = np.arange(10, 51, 2)\n",
    "print(\"\\nEven numbers between 10 and 50:\\n\", even_arr)\n",
    "\n",
    "# 4. Reshape an array of numbers from 0 to 15 into a 4x4 matrix\n",
    "matrix_reshaped = np.arange(16).reshape(4, 4)\n",
    "print(\"\\nReshaped 4x4 matrix:\\n\", matrix_reshaped)\n",
    "\n",
    "# 5. From given matrix\n",
    "matrix = np.array([\n",
    "    [1, 2, 3],\n",
    "    [4, 5, 6],\n",
    "    [7, 8, 9]\n",
    "])\n",
    "\n",
    "# Extract the number 6\n",
    "num6 = matrix[1, 2]\n",
    "print(\"\\nExtracted number 6:\", num6)\n",
    "\n",
    "# Get the second column [2, 5, 8]\n",
    "second_col = matrix[:, 1]\n",
    "print(\"Second column:\", second_col)\n",
    "\n",
    "# Get the first row [1, 2, 3]\n",
    "first_row = matrix[0, :]\n",
    "print(\"First row:\", first_row)\n"
   ]
  }
 ],
 "metadata": {
  "language_info": {
   "name": "python"
  }
 },
 "nbformat": 4,
 "nbformat_minor": 5
}
